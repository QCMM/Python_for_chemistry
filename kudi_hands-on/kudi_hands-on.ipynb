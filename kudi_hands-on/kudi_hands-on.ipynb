{
 "cells": [
  {
   "cell_type": "markdown",
   "metadata": {},
   "source": [
    "# Kudi Tutorial"
   ]
  },
  {
   "cell_type": "markdown",
   "metadata": {},
   "source": [
    "First install the Kudi library following the instructions on the github page.\n",
    "\n",
    "The you need to create two Path instances with the output files:\n",
    "\n",
    "\"sn2_h.dat\" and sn2_ch3.dat\"\n",
    "\n",
    "Once you have done that, you can plot different global and local properties along \n",
    "the reaction path. To analyze the effect of the Methyl subsituent, plot the \n",
    "energy profile and reaction force profile, which is defined as the negative derivative of \n",
    "the reaction energy.\n",
    "\n",
    "Also plot the two key bond distances in the Sn2 reaction and the HOMO and LUMO orbitals. "
   ]
  }
 ],
 "metadata": {
  "kernelspec": {
   "display_name": "Python 3",
   "language": "python",
   "name": "python3"
  },
  "language_info": {
   "codemirror_mode": {
    "name": "ipython",
    "version": 3
   },
   "file_extension": ".py",
   "mimetype": "text/x-python",
   "name": "python",
   "nbconvert_exporter": "python",
   "pygments_lexer": "ipython3",
   "version": "3.6.6"
  }
 },
 "nbformat": 4,
 "nbformat_minor": 2
}
